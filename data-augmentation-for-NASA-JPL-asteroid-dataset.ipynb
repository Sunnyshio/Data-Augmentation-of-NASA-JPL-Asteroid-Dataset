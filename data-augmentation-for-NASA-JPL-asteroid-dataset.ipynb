{
 "cells": [
  {
   "cell_type": "code",
   "execution_count": 1,
   "id": "4ff7eec7",
   "metadata": {
    "_cell_guid": "b1076dfc-b9ad-4769-8c92-a6c4dae69d19",
    "_uuid": "8f2839f25d086af736a60e9eeb907d3b93b6e0e5",
    "execution": {
     "iopub.execute_input": "2024-11-07T09:05:15.586283Z",
     "iopub.status.busy": "2024-11-07T09:05:15.585567Z",
     "iopub.status.idle": "2024-11-07T09:05:17.423476Z",
     "shell.execute_reply": "2024-11-07T09:05:17.421962Z"
    },
    "papermill": {
     "duration": 1.848933,
     "end_time": "2024-11-07T09:05:17.426413",
     "exception": false,
     "start_time": "2024-11-07T09:05:15.577480",
     "status": "completed"
    },
    "tags": []
   },
   "outputs": [
    {
     "name": "stdout",
     "output_type": "stream",
     "text": [
      "Path to dataset files: /kaggle/input/asteroid-dataset\n"
     ]
    }
   ],
   "source": [
    "import kagglehub\n",
    "import pandas as pd\n",
    "\n",
    "# Download latest version\n",
    "path = kagglehub.dataset_download(\"sakhawat18/asteroid-dataset\")\n",
    "print(\"Path to dataset files:\", path)"
   ]
  },
  {
   "cell_type": "code",
   "execution_count": 2,
   "id": "4e93ad88",
   "metadata": {
    "execution": {
     "iopub.execute_input": "2024-11-07T09:05:17.434505Z",
     "iopub.status.busy": "2024-11-07T09:05:17.433305Z",
     "iopub.status.idle": "2024-11-07T09:05:36.965939Z",
     "shell.execute_reply": "2024-11-07T09:05:36.964491Z"
    },
    "papermill": {
     "duration": 19.539919,
     "end_time": "2024-11-07T09:05:36.969260",
     "exception": false,
     "start_time": "2024-11-07T09:05:17.429341",
     "status": "completed"
    },
    "tags": []
   },
   "outputs": [
    {
     "name": "stderr",
     "output_type": "stream",
     "text": [
      "/tmp/ipykernel_17/132340723.py:2: DtypeWarning: Columns (3,4,5) have mixed types. Specify dtype option on import or set low_memory=False.\n",
      "  df = pd.read_csv(path)\n"
     ]
    },
    {
     "data": {
      "text/html": [
       "<div>\n",
       "<style scoped>\n",
       "    .dataframe tbody tr th:only-of-type {\n",
       "        vertical-align: middle;\n",
       "    }\n",
       "\n",
       "    .dataframe tbody tr th {\n",
       "        vertical-align: top;\n",
       "    }\n",
       "\n",
       "    .dataframe thead th {\n",
       "        text-align: right;\n",
       "    }\n",
       "</style>\n",
       "<table border=\"1\" class=\"dataframe\">\n",
       "  <thead>\n",
       "    <tr style=\"text-align: right;\">\n",
       "      <th></th>\n",
       "      <th>id</th>\n",
       "      <th>spkid</th>\n",
       "      <th>full_name</th>\n",
       "      <th>pdes</th>\n",
       "      <th>name</th>\n",
       "      <th>prefix</th>\n",
       "      <th>neo</th>\n",
       "      <th>pha</th>\n",
       "      <th>H</th>\n",
       "      <th>diameter</th>\n",
       "      <th>...</th>\n",
       "      <th>sigma_i</th>\n",
       "      <th>sigma_om</th>\n",
       "      <th>sigma_w</th>\n",
       "      <th>sigma_ma</th>\n",
       "      <th>sigma_ad</th>\n",
       "      <th>sigma_n</th>\n",
       "      <th>sigma_tp</th>\n",
       "      <th>sigma_per</th>\n",
       "      <th>class</th>\n",
       "      <th>rms</th>\n",
       "    </tr>\n",
       "  </thead>\n",
       "  <tbody>\n",
       "    <tr>\n",
       "      <th>0</th>\n",
       "      <td>a0000001</td>\n",
       "      <td>2000001</td>\n",
       "      <td>1 Ceres</td>\n",
       "      <td>1</td>\n",
       "      <td>Ceres</td>\n",
       "      <td>NaN</td>\n",
       "      <td>N</td>\n",
       "      <td>N</td>\n",
       "      <td>3.40</td>\n",
       "      <td>939.400</td>\n",
       "      <td>...</td>\n",
       "      <td>4.608900e-09</td>\n",
       "      <td>6.168800e-08</td>\n",
       "      <td>6.624800e-08</td>\n",
       "      <td>7.820700e-09</td>\n",
       "      <td>1.111300e-11</td>\n",
       "      <td>1.196500e-12</td>\n",
       "      <td>3.782900e-08</td>\n",
       "      <td>9.415900e-09</td>\n",
       "      <td>MBA</td>\n",
       "      <td>0.43301</td>\n",
       "    </tr>\n",
       "    <tr>\n",
       "      <th>1</th>\n",
       "      <td>a0000002</td>\n",
       "      <td>2000002</td>\n",
       "      <td>2 Pallas</td>\n",
       "      <td>2</td>\n",
       "      <td>Pallas</td>\n",
       "      <td>NaN</td>\n",
       "      <td>N</td>\n",
       "      <td>N</td>\n",
       "      <td>4.20</td>\n",
       "      <td>545.000</td>\n",
       "      <td>...</td>\n",
       "      <td>3.469400e-06</td>\n",
       "      <td>6.272400e-06</td>\n",
       "      <td>9.128200e-06</td>\n",
       "      <td>8.859100e-06</td>\n",
       "      <td>4.961300e-09</td>\n",
       "      <td>4.653600e-10</td>\n",
       "      <td>4.078700e-05</td>\n",
       "      <td>3.680700e-06</td>\n",
       "      <td>MBA</td>\n",
       "      <td>0.35936</td>\n",
       "    </tr>\n",
       "    <tr>\n",
       "      <th>2</th>\n",
       "      <td>a0000003</td>\n",
       "      <td>2000003</td>\n",
       "      <td>3 Juno</td>\n",
       "      <td>3</td>\n",
       "      <td>Juno</td>\n",
       "      <td>NaN</td>\n",
       "      <td>N</td>\n",
       "      <td>N</td>\n",
       "      <td>5.33</td>\n",
       "      <td>246.596</td>\n",
       "      <td>...</td>\n",
       "      <td>3.223100e-06</td>\n",
       "      <td>1.664600e-05</td>\n",
       "      <td>1.772100e-05</td>\n",
       "      <td>8.110400e-06</td>\n",
       "      <td>4.363900e-09</td>\n",
       "      <td>4.413400e-10</td>\n",
       "      <td>3.528800e-05</td>\n",
       "      <td>3.107200e-06</td>\n",
       "      <td>MBA</td>\n",
       "      <td>0.33848</td>\n",
       "    </tr>\n",
       "    <tr>\n",
       "      <th>3</th>\n",
       "      <td>a0000004</td>\n",
       "      <td>2000004</td>\n",
       "      <td>4 Vesta</td>\n",
       "      <td>4</td>\n",
       "      <td>Vesta</td>\n",
       "      <td>NaN</td>\n",
       "      <td>N</td>\n",
       "      <td>N</td>\n",
       "      <td>3.00</td>\n",
       "      <td>525.400</td>\n",
       "      <td>...</td>\n",
       "      <td>2.170600e-07</td>\n",
       "      <td>3.880800e-07</td>\n",
       "      <td>1.789300e-07</td>\n",
       "      <td>1.206800e-06</td>\n",
       "      <td>1.648600e-09</td>\n",
       "      <td>2.612500e-10</td>\n",
       "      <td>4.103700e-06</td>\n",
       "      <td>1.274900e-06</td>\n",
       "      <td>MBA</td>\n",
       "      <td>0.39980</td>\n",
       "    </tr>\n",
       "    <tr>\n",
       "      <th>4</th>\n",
       "      <td>a0000005</td>\n",
       "      <td>2000005</td>\n",
       "      <td>5 Astraea</td>\n",
       "      <td>5</td>\n",
       "      <td>Astraea</td>\n",
       "      <td>NaN</td>\n",
       "      <td>N</td>\n",
       "      <td>N</td>\n",
       "      <td>6.90</td>\n",
       "      <td>106.699</td>\n",
       "      <td>...</td>\n",
       "      <td>2.740800e-06</td>\n",
       "      <td>2.894900e-05</td>\n",
       "      <td>2.984200e-05</td>\n",
       "      <td>8.303800e-06</td>\n",
       "      <td>4.729000e-09</td>\n",
       "      <td>5.522700e-10</td>\n",
       "      <td>3.474300e-05</td>\n",
       "      <td>3.490500e-06</td>\n",
       "      <td>MBA</td>\n",
       "      <td>0.52191</td>\n",
       "    </tr>\n",
       "  </tbody>\n",
       "</table>\n",
       "<p>5 rows × 45 columns</p>\n",
       "</div>"
      ],
      "text/plain": [
       "         id    spkid       full_name pdes     name prefix neo pha     H  \\\n",
       "0  a0000001  2000001         1 Ceres    1    Ceres    NaN   N   N  3.40   \n",
       "1  a0000002  2000002        2 Pallas    2   Pallas    NaN   N   N  4.20   \n",
       "2  a0000003  2000003          3 Juno    3     Juno    NaN   N   N  5.33   \n",
       "3  a0000004  2000004         4 Vesta    4    Vesta    NaN   N   N  3.00   \n",
       "4  a0000005  2000005       5 Astraea    5  Astraea    NaN   N   N  6.90   \n",
       "\n",
       "   diameter  ...       sigma_i      sigma_om       sigma_w      sigma_ma  \\\n",
       "0   939.400  ...  4.608900e-09  6.168800e-08  6.624800e-08  7.820700e-09   \n",
       "1   545.000  ...  3.469400e-06  6.272400e-06  9.128200e-06  8.859100e-06   \n",
       "2   246.596  ...  3.223100e-06  1.664600e-05  1.772100e-05  8.110400e-06   \n",
       "3   525.400  ...  2.170600e-07  3.880800e-07  1.789300e-07  1.206800e-06   \n",
       "4   106.699  ...  2.740800e-06  2.894900e-05  2.984200e-05  8.303800e-06   \n",
       "\n",
       "       sigma_ad       sigma_n      sigma_tp     sigma_per  class      rms  \n",
       "0  1.111300e-11  1.196500e-12  3.782900e-08  9.415900e-09    MBA  0.43301  \n",
       "1  4.961300e-09  4.653600e-10  4.078700e-05  3.680700e-06    MBA  0.35936  \n",
       "2  4.363900e-09  4.413400e-10  3.528800e-05  3.107200e-06    MBA  0.33848  \n",
       "3  1.648600e-09  2.612500e-10  4.103700e-06  1.274900e-06    MBA  0.39980  \n",
       "4  4.729000e-09  5.522700e-10  3.474300e-05  3.490500e-06    MBA  0.52191  \n",
       "\n",
       "[5 rows x 45 columns]"
      ]
     },
     "execution_count": 2,
     "metadata": {},
     "output_type": "execute_result"
    }
   ],
   "source": [
    "path = '/kaggle/input/asteroid-dataset/dataset.csv'\n",
    "df = pd.read_csv(path)\n",
    "df.head()"
   ]
  },
  {
   "cell_type": "code",
   "execution_count": 3,
   "id": "9731d7e4",
   "metadata": {
    "execution": {
     "iopub.execute_input": "2024-11-07T09:05:36.977732Z",
     "iopub.status.busy": "2024-11-07T09:05:36.977140Z",
     "iopub.status.idle": "2024-11-07T09:05:36.985518Z",
     "shell.execute_reply": "2024-11-07T09:05:36.984213Z"
    },
    "papermill": {
     "duration": 0.015725,
     "end_time": "2024-11-07T09:05:36.988291",
     "exception": false,
     "start_time": "2024-11-07T09:05:36.972566",
     "status": "completed"
    },
    "tags": []
   },
   "outputs": [
    {
     "data": {
      "text/plain": [
       "(958524, 45)"
      ]
     },
     "execution_count": 3,
     "metadata": {},
     "output_type": "execute_result"
    }
   ],
   "source": [
    "df.shape"
   ]
  }
 ],
 "metadata": {
  "kaggle": {
   "accelerator": "none",
   "dataSources": [
    {
     "datasetId": 689444,
     "sourceId": 9790521,
     "sourceType": "datasetVersion"
    }
   ],
   "dockerImageVersionId": 30786,
   "isGpuEnabled": false,
   "isInternetEnabled": false,
   "language": "python",
   "sourceType": "notebook"
  },
  "kernelspec": {
   "display_name": "Python 3",
   "language": "python",
   "name": "python3"
  },
  "language_info": {
   "codemirror_mode": {
    "name": "ipython",
    "version": 3
   },
   "file_extension": ".py",
   "mimetype": "text/x-python",
   "name": "python",
   "nbconvert_exporter": "python",
   "pygments_lexer": "ipython3",
   "version": "3.10.14"
  },
  "papermill": {
   "default_parameters": {},
   "duration": 26.166934,
   "end_time": "2024-11-07T09:05:37.714658",
   "environment_variables": {},
   "exception": null,
   "input_path": "__notebook__.ipynb",
   "output_path": "__notebook__.ipynb",
   "parameters": {},
   "start_time": "2024-11-07T09:05:11.547724",
   "version": "2.6.0"
  }
 },
 "nbformat": 4,
 "nbformat_minor": 5
}
